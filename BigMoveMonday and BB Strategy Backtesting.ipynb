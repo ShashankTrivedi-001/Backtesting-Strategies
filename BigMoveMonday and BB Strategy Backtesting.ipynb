{
 "cells": [
  {
   "cell_type": "code",
   "execution_count": 2,
   "id": "c1b5a083-df63-4d85-bfc4-9306c7dbcbce",
   "metadata": {},
   "outputs": [],
   "source": [
    "import numpy as np\n",
    "import pandas as pd\n",
    "import matplotlib.pyplot as plt\n",
    "import cufflinks as cf\n",
    "import yfinance as yf \n",
    "import datetime\n",
    "import warnings\n",
    "warnings.filterwarnings('ignore')"
   ]
  },
  {
   "cell_type": "markdown",
   "id": "20a3fb0f-f800-46f0-bc55-4d57fb536c3c",
   "metadata": {},
   "source": [
    "# Backtesting and Optimisation of the 'Big Moves Monday' Trading Strategy\r\n",
    "\r\n",
    "## Objective\r\n",
    "Designed and optimised the 'Big Moves Monday' trading strategy by implementing a Python-based backtesting framework for the S&P 500.\r\n",
    "\r\n",
    "## Approach\r\n",
    "### Strategy Description\r\n",
    "The strategy involves entering a long position on Monday and exiting on the following Friday, subject to specific conditions:\r\n",
    "\r\n",
    "1. **Calculate 25-day Moving Average of Relative Range (`rel_range_ma`)**  \r\n",
    "   - `relative_range = (High - Low) / Close`  \r\n",
    "\r\n",
    "2. **Monday Close Condition**  \r\n",
    "   - The Monday close must be at least 0.25 times lower than the previous Friday close, adjusted by `rel_range_ma`.  \r\n",
    "\r\n",
    "3. **Intraday Breakout Strategy (IBS) Parameter**  \r\n",
    "   - Compute `ibs = (Close - Low) / (High - Low)`  \r\n",
    "   - Ensure `ibs < 0.3`.  \r\n",
    "\r\n",
    "4. **Trade Execution**  \r\n",
    "   - Enter a long position at Monday’s close and exit at Friday’s close if all conditions are met.  \r\n",
    "\r\n",
    "### Optimisation\r\n",
    "- Ran the strategy with the following IBS thresholds:\r\n",
    "  1. **Standard Threshold:** 0.3  \r\n",
    "  2. **Modified Threshold:** 0.8  \r\n",
    "\r\n",
    "- Compared total returns and performance metrics for both thresholds to assess sensitivity.\r\n",
    "\r\n",
    "## Outcome\r\n",
    "Delivered insights into the strategy’s profitability and robustness under varying conditions, showcasing adaptability and data-driven decision-maing in strategy optimisation.\r\n"
   ]
  },
  {
   "cell_type": "code",
   "execution_count": 40,
   "id": "1001d8fb-d9f0-4913-a827-8441d3c7efad",
   "metadata": {},
   "outputs": [],
   "source": [
    "def download_daily_data (ticker, start, end):\n",
    "    data = yf.download(ticker, start, end)\n",
    "    return data"
   ]
  },
  {
   "cell_type": "code",
   "execution_count": 5,
   "id": "ec674341-0635-4a60-8815-18bd8597b103",
   "metadata": {},
   "outputs": [],
   "source": [
    "def compute_daily_return (data):\n",
    "    data['cc_returns'] = np.log(data['Close']/data['Close'].shift(1))\n",
    "    return data"
   ]
  },
  {
   "cell_type": "code",
   "execution_count": 6,
   "id": "0d37ee04-ee41-47fa-ab5f-7fe8d9d3283e",
   "metadata": {},
   "outputs": [],
   "source": [
    "ticker1 = 'MSFT'\n",
    "end1 = datetime.date(2020, 4, 30)\n",
    "start1 = datetime.date(2015, 1, 2)"
   ]
  },
  {
   "cell_type": "code",
   "execution_count": 7,
   "id": "fd0625c4-0f6f-49cf-82e9-5d582afab0ec",
   "metadata": {},
   "outputs": [
    {
     "name": "stderr",
     "output_type": "stream",
     "text": [
      "[*********************100%***********************]  1 of 1 completed\n"
     ]
    }
   ],
   "source": [
    "df1_= download_daily_data(ticker = ticker1, start = start1, end = end1)"
   ]
  },
  {
   "cell_type": "code",
   "execution_count": 8,
   "id": "c44e0bda-280f-48bc-a3ae-9da3016e9233",
   "metadata": {},
   "outputs": [],
   "source": [
    "df1 = df1_.copy()"
   ]
  },
  {
   "cell_type": "code",
   "execution_count": 9,
   "id": "acbdbc7e-6940-41b9-a9a4-c87f69364962",
   "metadata": {},
   "outputs": [],
   "source": [
    "def compute_indicators (data):\n",
    "    data['days'] = data.index.day_name()\n",
    "    data['prev_days'] = data['days'].shift(1)\n",
    "    data['four_days_after'] = data['days'].shift(-4)\n",
    "    data['relative_range'] =  (data ['High'] - data ['Low'])/data ['Close']\n",
    "    data['rel_range_ma'] = data['relative_range'].rolling(window = 25).mean()\n",
    "    data['ibs'] = (data ['Close'] - data ['Low'])/(data ['High'] - data ['Low'])\n",
    "    return data"
   ]
  },
  {
   "cell_type": "code",
   "execution_count": 10,
   "id": "ad44a275-43df-47f4-9106-c574a7310b51",
   "metadata": {},
   "outputs": [],
   "source": [
    "def backtest_strategy_ibs3(data):\n",
    "    data['condition13'] = np.where((data['days'] == 'Monday') &\n",
    "                                (data['prev_days'] == 'Friday') &\n",
    "                                (data['four_days_after'] == 'Friday')\n",
    "                                 ,1,0)\n",
    "    data['condition23'] = np.where((1 - data['Close']/data ['Close'].shift(1)) >= (0.25 * data['rel_range_ma']),1,0)\n",
    "    data['condition33'] = np.where(data['ibs'] < 0.3,1,0)\n",
    "    data['signal3'] = np.where((data['condition13'] == 1) & (data['condition23'] == 1) & (data['condition33'] == 1), 1, 0)\n",
    "    data['signal3'] = data['signal3'].shift(1)\n",
    "    data['position3'] = data['signal3'].replace(to_replace = 0, method = 'ffill', limit = 3)\n",
    "    data['strategy_return3'] = data['cc_returns'] * data['position3']\n",
    "    return data"
   ]
  },
  {
   "cell_type": "code",
   "execution_count": 11,
   "id": "3e35cbc7-f7c3-435d-a213-4eec67cdd0b1",
   "metadata": {},
   "outputs": [],
   "source": [
    "def backtest_strategy_ibs8(data):\n",
    "    data['condition18'] = np.where((data['days'] == 'Monday') &\n",
    "                                (data['prev_days'] == 'Friday') &\n",
    "                                (data['four_days_after'] == 'Friday')\n",
    "                                 ,1,0)\n",
    "    data['condition28'] = np.where((1 - data['Close']/data ['Close'].shift(1)) >= (0.25 * data['rel_range_ma']),1,0)\n",
    "    data['condition38'] = np.where(data['ibs'] < 0.8,1,0)\n",
    "    data['signal8'] = np.where((data['condition18'] == 1) & (data['condition28'] == 1) & (data['condition38'] == 1), 1, 0)\n",
    "    data['signal8'] = data['signal8'].shift(1)\n",
    "    data['position8'] = data['signal8'].replace(to_replace = 0, method = 'ffill', limit = 3)\n",
    "    data['strategy_return8'] = data['cc_returns'] * data['position8']\n",
    "    return data"
   ]
  },
  {
   "cell_type": "code",
   "execution_count": 12,
   "id": "4dd8f7f8-df1e-46ce-990a-03fb3f93f9ce",
   "metadata": {},
   "outputs": [],
   "source": [
    "def show_backtesting_results_ibs3(data):\n",
    "    print('Buy and Hold returns3:' , np.round (data['cc_returns'].cumsum()[-1],2))\n",
    "    print('Strategy returns3:' , np.round (data['strategy_return3'].cumsum()[-1],2))\n",
    "    #data['strategy_return3'] = data['strategy_return'].cumsum()\n",
    "    #data['cc_return'] = data['cc_return'].cumsum()\n",
    "    #data[['cc_return', 'strategy_returns']].plot(grid = True, linewidth = 0.5, figsize = (12,8))"
   ]
  },
  {
   "cell_type": "code",
   "execution_count": 13,
   "id": "c4d5f699-37b6-4b25-99a7-67ebd0151930",
   "metadata": {},
   "outputs": [],
   "source": [
    "def show_backtesting_results_ibs8(data):\n",
    "    print('Buy and Hold returns3:' , np.round (data['cc_returns'].cumsum()[-1],2))\n",
    "    print('Strategy returns8:' , np.round (data['strategy_return8'].cumsum()[-1],2))"
   ]
  },
  {
   "cell_type": "code",
   "execution_count": 14,
   "id": "e28fdbe9-b136-460d-a342-3c101da79679",
   "metadata": {},
   "outputs": [],
   "source": [
    "df1 = compute_daily_return(df1)"
   ]
  },
  {
   "cell_type": "code",
   "execution_count": 15,
   "id": "483e70c0-5ab9-47d4-b9b5-fb826b03918a",
   "metadata": {},
   "outputs": [],
   "source": [
    "df1 = compute_indicators(df1)"
   ]
  },
  {
   "cell_type": "code",
   "execution_count": 16,
   "id": "2c31e777-201f-4210-a484-c02b749a1b06",
   "metadata": {},
   "outputs": [
    {
     "data": {
      "text/html": [
       "<div>\n",
       "<style scoped>\n",
       "    .dataframe tbody tr th:only-of-type {\n",
       "        vertical-align: middle;\n",
       "    }\n",
       "\n",
       "    .dataframe tbody tr th {\n",
       "        vertical-align: top;\n",
       "    }\n",
       "\n",
       "    .dataframe thead th {\n",
       "        text-align: right;\n",
       "    }\n",
       "</style>\n",
       "<table border=\"1\" class=\"dataframe\">\n",
       "  <thead>\n",
       "    <tr style=\"text-align: right;\">\n",
       "      <th></th>\n",
       "      <th>Open</th>\n",
       "      <th>High</th>\n",
       "      <th>Low</th>\n",
       "      <th>Close</th>\n",
       "      <th>Adj Close</th>\n",
       "      <th>Volume</th>\n",
       "      <th>cc_returns</th>\n",
       "      <th>days</th>\n",
       "      <th>prev_days</th>\n",
       "      <th>four_days_after</th>\n",
       "      <th>relative_range</th>\n",
       "      <th>rel_range_ma</th>\n",
       "      <th>ibs</th>\n",
       "    </tr>\n",
       "    <tr>\n",
       "      <th>Date</th>\n",
       "      <th></th>\n",
       "      <th></th>\n",
       "      <th></th>\n",
       "      <th></th>\n",
       "      <th></th>\n",
       "      <th></th>\n",
       "      <th></th>\n",
       "      <th></th>\n",
       "      <th></th>\n",
       "      <th></th>\n",
       "      <th></th>\n",
       "      <th></th>\n",
       "      <th></th>\n",
       "    </tr>\n",
       "  </thead>\n",
       "  <tbody>\n",
       "    <tr>\n",
       "      <th>2015-01-02</th>\n",
       "      <td>46.660000</td>\n",
       "      <td>47.419998</td>\n",
       "      <td>46.540001</td>\n",
       "      <td>46.759998</td>\n",
       "      <td>40.232849</td>\n",
       "      <td>27913900</td>\n",
       "      <td>NaN</td>\n",
       "      <td>Friday</td>\n",
       "      <td>None</td>\n",
       "      <td>Thursday</td>\n",
       "      <td>0.018819</td>\n",
       "      <td>NaN</td>\n",
       "      <td>0.249998</td>\n",
       "    </tr>\n",
       "    <tr>\n",
       "      <th>2015-01-05</th>\n",
       "      <td>46.369999</td>\n",
       "      <td>46.730000</td>\n",
       "      <td>46.250000</td>\n",
       "      <td>46.330002</td>\n",
       "      <td>39.862888</td>\n",
       "      <td>39673900</td>\n",
       "      <td>-0.009238</td>\n",
       "      <td>Monday</td>\n",
       "      <td>Friday</td>\n",
       "      <td>Friday</td>\n",
       "      <td>0.010360</td>\n",
       "      <td>NaN</td>\n",
       "      <td>0.166671</td>\n",
       "    </tr>\n",
       "    <tr>\n",
       "      <th>2015-01-06</th>\n",
       "      <td>46.380001</td>\n",
       "      <td>46.750000</td>\n",
       "      <td>45.540001</td>\n",
       "      <td>45.650002</td>\n",
       "      <td>39.277805</td>\n",
       "      <td>36447900</td>\n",
       "      <td>-0.014786</td>\n",
       "      <td>Tuesday</td>\n",
       "      <td>Monday</td>\n",
       "      <td>Monday</td>\n",
       "      <td>0.026506</td>\n",
       "      <td>NaN</td>\n",
       "      <td>0.090910</td>\n",
       "    </tr>\n",
       "    <tr>\n",
       "      <th>2015-01-07</th>\n",
       "      <td>45.980000</td>\n",
       "      <td>46.459999</td>\n",
       "      <td>45.490002</td>\n",
       "      <td>46.230000</td>\n",
       "      <td>39.776836</td>\n",
       "      <td>29114100</td>\n",
       "      <td>0.012625</td>\n",
       "      <td>Wednesday</td>\n",
       "      <td>Tuesday</td>\n",
       "      <td>Tuesday</td>\n",
       "      <td>0.020982</td>\n",
       "      <td>NaN</td>\n",
       "      <td>0.762886</td>\n",
       "    </tr>\n",
       "    <tr>\n",
       "      <th>2015-01-08</th>\n",
       "      <td>46.750000</td>\n",
       "      <td>47.750000</td>\n",
       "      <td>46.720001</td>\n",
       "      <td>47.590000</td>\n",
       "      <td>40.946995</td>\n",
       "      <td>29645200</td>\n",
       "      <td>0.028994</td>\n",
       "      <td>Thursday</td>\n",
       "      <td>Wednesday</td>\n",
       "      <td>Wednesday</td>\n",
       "      <td>0.021643</td>\n",
       "      <td>NaN</td>\n",
       "      <td>0.844660</td>\n",
       "    </tr>\n",
       "  </tbody>\n",
       "</table>\n",
       "</div>"
      ],
      "text/plain": [
       "                 Open       High        Low      Close  Adj Close    Volume  \\\n",
       "Date                                                                          \n",
       "2015-01-02  46.660000  47.419998  46.540001  46.759998  40.232849  27913900   \n",
       "2015-01-05  46.369999  46.730000  46.250000  46.330002  39.862888  39673900   \n",
       "2015-01-06  46.380001  46.750000  45.540001  45.650002  39.277805  36447900   \n",
       "2015-01-07  45.980000  46.459999  45.490002  46.230000  39.776836  29114100   \n",
       "2015-01-08  46.750000  47.750000  46.720001  47.590000  40.946995  29645200   \n",
       "\n",
       "            cc_returns       days  prev_days four_days_after  relative_range  \\\n",
       "Date                                                                           \n",
       "2015-01-02         NaN     Friday       None        Thursday        0.018819   \n",
       "2015-01-05   -0.009238     Monday     Friday          Friday        0.010360   \n",
       "2015-01-06   -0.014786    Tuesday     Monday          Monday        0.026506   \n",
       "2015-01-07    0.012625  Wednesday    Tuesday         Tuesday        0.020982   \n",
       "2015-01-08    0.028994   Thursday  Wednesday       Wednesday        0.021643   \n",
       "\n",
       "            rel_range_ma       ibs  \n",
       "Date                                \n",
       "2015-01-02           NaN  0.249998  \n",
       "2015-01-05           NaN  0.166671  \n",
       "2015-01-06           NaN  0.090910  \n",
       "2015-01-07           NaN  0.762886  \n",
       "2015-01-08           NaN  0.844660  "
      ]
     },
     "execution_count": 16,
     "metadata": {},
     "output_type": "execute_result"
    }
   ],
   "source": [
    "df1.head()"
   ]
  },
  {
   "cell_type": "code",
   "execution_count": 17,
   "id": "c06e17d9-dc73-4547-80c2-e338c914db48",
   "metadata": {},
   "outputs": [],
   "source": [
    "backtest_strategy_ibs3(df1);"
   ]
  },
  {
   "cell_type": "code",
   "execution_count": 18,
   "id": "da890a6c-6e0f-48d5-b051-ab1b84f36216",
   "metadata": {},
   "outputs": [],
   "source": [
    "backtest_strategy_ibs8(df1);"
   ]
  },
  {
   "cell_type": "code",
   "execution_count": 19,
   "id": "ed5d6338-ffa4-4b74-ab05-27db2ca88edf",
   "metadata": {},
   "outputs": [
    {
     "name": "stdout",
     "output_type": "stream",
     "text": [
      "Buy and Hold returns3: 1.33\n",
      "Strategy returns3: 0.53\n"
     ]
    }
   ],
   "source": [
    "show_backtesting_results_ibs3(df1)"
   ]
  },
  {
   "cell_type": "code",
   "execution_count": 20,
   "id": "19d31032-95e9-4892-9a28-aa1030bae66d",
   "metadata": {},
   "outputs": [
    {
     "name": "stdout",
     "output_type": "stream",
     "text": [
      "Buy and Hold returns3: 1.33\n",
      "Strategy returns8: 0.66\n"
     ]
    }
   ],
   "source": [
    "show_backtesting_results_ibs8(df1)"
   ]
  },
  {
   "cell_type": "code",
   "execution_count": 21,
   "id": "5119d419-1aa4-4409-b804-1a85c5ee75f9",
   "metadata": {},
   "outputs": [
    {
     "data": {
      "text/plain": [
       "<Axes: xlabel='Date'>"
      ]
     },
     "execution_count": 21,
     "metadata": {},
     "output_type": "execute_result"
    },
    {
     "data": {
      "image/png": "[encoded data removed]",
      "text/plain": [
       "<Figure size 1200x800 with 1 Axes>"
      ]
     },
     "metadata": {},
     "output_type": "display_data"
    }
   ],
   "source": [
    "df1['strategy_return3'] = df1['strategy_return3'].cumsum()\n",
    "df1['strategy_return8'] = df1['strategy_return8'].cumsum()\n",
    "df1['cc_returns'] = df1['cc_returns'].cumsum()\n",
    "\n",
    "df1[['strategy_return3', 'strategy_return8', 'cc_returns']].plot(grid = True, linewidth = 0.5, figsize = (12,8))"
   ]
  },
  {
   "cell_type": "markdown",
   "id": "cffd8774-ff01-4333-97bd-80c6178a266b",
   "metadata": {},
   "source": [
    "#### ‘ibs’ threshold of 0.8 gave good returns compare to ‘ibs’ threshold of 0.3. However, it is still less than buy and hold returns."
   ]
  },
  {
   "cell_type": "markdown",
   "id": "986c18f3-cf3c-49d7-8a32-5a447750f88a",
   "metadata": {},
   "source": [
    "# Backtesting and Optimisation of Bollinger Band-Based Trading Strategy\r\n",
    "\r\n",
    "## Objective\r\n",
    "Designed and implemented a trading strategy based on Bollinger Bands to evaluate its performance compared to a simple buy-and-hold strategy.\r\n",
    "\r\n",
    "## Approach\r\n",
    "1. **Bollinger Band Calculation:**  \r\n",
    "   - Created 20-day Bollinger Bands using the adjusted close prices with ±2 standard deviations.\r\n",
    "\r\n",
    "2. **Buy Condition:**  \r\n",
    "   - Entered a long position when the price crossed below the lower Bollinger Band.\r\n",
    "\r\n",
    "3. **Sell Condition:**  \r\n",
    "   - Exited the long position and entered a short position when the price crossed above the upper Bollinger Band.\r\n",
    "\r\n",
    "4. **Continuous Positioning:**  \r\n",
    "   - Ensured an open position at all times, alternating between long and short positions based on the crossing conditions.\r\n",
    "\r\n",
    "5. **Backtesting:**  \r\n",
    "   - Calculated cumulative returns for the Bollinger Band strategy and compared them against the returns of a simple buy-and-hold strategy.\r\n",
    "\r\n",
    "## Outcome\r\n",
    "Analysed and compared the performance of the Bollinger Band strategy with the buy-and-hold approach, providing insights into the effectiveness and profitability of each method.\r\n"
   ]
  },
  {
   "cell_type": "code",
   "execution_count": 24,
   "id": "24cf1c61-ffb3-4eae-aaaa-6d6ef5c34389",
   "metadata": {},
   "outputs": [
    {
     "data": {
      "text/html": [
       "<div>\n",
       "<style scoped>\n",
       "    .dataframe tbody tr th:only-of-type {\n",
       "        vertical-align: middle;\n",
       "    }\n",
       "\n",
       "    .dataframe tbody tr th {\n",
       "        vertical-align: top;\n",
       "    }\n",
       "\n",
       "    .dataframe thead th {\n",
       "        text-align: right;\n",
       "    }\n",
       "</style>\n",
       "<table border=\"1\" class=\"dataframe\">\n",
       "  <thead>\n",
       "    <tr style=\"text-align: right;\">\n",
       "      <th></th>\n",
       "      <th>Open</th>\n",
       "      <th>High</th>\n",
       "      <th>Low</th>\n",
       "      <th>Close</th>\n",
       "      <th>Adj Close</th>\n",
       "      <th>Volume</th>\n",
       "    </tr>\n",
       "    <tr>\n",
       "      <th>Date</th>\n",
       "      <th></th>\n",
       "      <th></th>\n",
       "      <th></th>\n",
       "      <th></th>\n",
       "      <th></th>\n",
       "      <th></th>\n",
       "    </tr>\n",
       "  </thead>\n",
       "  <tbody>\n",
       "    <tr>\n",
       "      <th>2015-01-02</th>\n",
       "      <td>46.660000</td>\n",
       "      <td>47.419998</td>\n",
       "      <td>46.540001</td>\n",
       "      <td>46.759998</td>\n",
       "      <td>40.232849</td>\n",
       "      <td>27913900</td>\n",
       "    </tr>\n",
       "    <tr>\n",
       "      <th>2015-01-05</th>\n",
       "      <td>46.369999</td>\n",
       "      <td>46.730000</td>\n",
       "      <td>46.250000</td>\n",
       "      <td>46.330002</td>\n",
       "      <td>39.862888</td>\n",
       "      <td>39673900</td>\n",
       "    </tr>\n",
       "    <tr>\n",
       "      <th>2015-01-06</th>\n",
       "      <td>46.380001</td>\n",
       "      <td>46.750000</td>\n",
       "      <td>45.540001</td>\n",
       "      <td>45.650002</td>\n",
       "      <td>39.277805</td>\n",
       "      <td>36447900</td>\n",
       "    </tr>\n",
       "    <tr>\n",
       "      <th>2015-01-07</th>\n",
       "      <td>45.980000</td>\n",
       "      <td>46.459999</td>\n",
       "      <td>45.490002</td>\n",
       "      <td>46.230000</td>\n",
       "      <td>39.776836</td>\n",
       "      <td>29114100</td>\n",
       "    </tr>\n",
       "    <tr>\n",
       "      <th>2015-01-08</th>\n",
       "      <td>46.750000</td>\n",
       "      <td>47.750000</td>\n",
       "      <td>46.720001</td>\n",
       "      <td>47.590000</td>\n",
       "      <td>40.946995</td>\n",
       "      <td>29645200</td>\n",
       "    </tr>\n",
       "  </tbody>\n",
       "</table>\n",
       "</div>"
      ],
      "text/plain": [
       "                 Open       High        Low      Close  Adj Close    Volume\n",
       "Date                                                                       \n",
       "2015-01-02  46.660000  47.419998  46.540001  46.759998  40.232849  27913900\n",
       "2015-01-05  46.369999  46.730000  46.250000  46.330002  39.862888  39673900\n",
       "2015-01-06  46.380001  46.750000  45.540001  45.650002  39.277805  36447900\n",
       "2015-01-07  45.980000  46.459999  45.490002  46.230000  39.776836  29114100\n",
       "2015-01-08  46.750000  47.750000  46.720001  47.590000  40.946995  29645200"
      ]
     },
     "execution_count": 24,
     "metadata": {},
     "output_type": "execute_result"
    }
   ],
   "source": [
    "df2 = df1_.copy()\n",
    "df2.head()"
   ]
  },
  {
   "cell_type": "code",
   "execution_count": 25,
   "id": "64913b5f-a0b5-4033-8de5-f5f9022b0877",
   "metadata": {},
   "outputs": [],
   "source": [
    "sma = 20\n",
    "df2['cc_return'] = df2['Adj Close'].pct_change()\n",
    "df2['sma20'] = df2['Adj Close'].rolling(window = sma).mean()\n",
    "df2['std_dev'] = df2['Adj Close'].rolling(window = sma).std()\n",
    "df2['upperBB'] = df2['sma20'] + 2 * df2['std_dev']\n",
    "df2['lowerBB'] = df2['sma20'] - 2 * df2['std_dev']"
   ]
  },
  {
   "cell_type": "code",
   "execution_count": 26,
   "id": "8fef8ac9-a027-4cef-a0dd-1c6d99c7bb38",
   "metadata": {},
   "outputs": [],
   "source": [
    "df2.tail();"
   ]
  },
  {
   "cell_type": "code",
   "execution_count": 27,
   "id": "da36bb58-967a-4c91-9b00-db11faf8b2a6",
   "metadata": {},
   "outputs": [],
   "source": [
    "df2['signal'] = np.where(df2['Adj Close'] < df2['lowerBB'], 1, 0)"
   ]
  },
  {
   "cell_type": "code",
   "execution_count": 28,
   "id": "1904c958-342b-45f6-b235-d45dd97584ae",
   "metadata": {},
   "outputs": [],
   "source": [
    "df2['signal'] = np.where(df2['Adj Close'] > df2['upperBB'], -1, df2['signal'])"
   ]
  },
  {
   "cell_type": "code",
   "execution_count": 29,
   "id": "cd42bb41-dbe8-406d-8541-b7a149f2e1f9",
   "metadata": {},
   "outputs": [],
   "source": [
    "df2['signal'] = df2['signal'].shift(1)"
   ]
  },
  {
   "cell_type": "code",
   "execution_count": 30,
   "id": "e8fe1505-e9fa-46ee-8b2f-3de2e9cec592",
   "metadata": {},
   "outputs": [],
   "source": [
    "df2['position'] = df2['signal'].replace(to_replace = 0, method = 'ffill')"
   ]
  },
  {
   "cell_type": "code",
   "execution_count": 31,
   "id": "359386e9-c963-4510-987c-cb94872d9004",
   "metadata": {},
   "outputs": [],
   "source": [
    "df2.tail(20);"
   ]
  },
  {
   "cell_type": "code",
   "execution_count": 32,
   "id": "15cc8e07-d041-4d3e-b6e0-bf8609155ede",
   "metadata": {},
   "outputs": [
    {
     "data": {
      "text/plain": [
       "position\n",
       "-1.0    805\n",
       " 1.0    515\n",
       "Name: count, dtype: int64"
      ]
     },
     "execution_count": 32,
     "metadata": {},
     "output_type": "execute_result"
    }
   ],
   "source": [
    "df2['position'].value_counts()"
   ]
  },
  {
   "cell_type": "code",
   "execution_count": 33,
   "id": "aa93764e-b1a1-4d5b-ad34-069889824ca9",
   "metadata": {},
   "outputs": [],
   "source": [
    "#df2['position'].plot()"
   ]
  },
  {
   "cell_type": "code",
   "execution_count": 34,
   "id": "8e6d5175-cd8f-4ff0-92f5-26d2fc3efdcc",
   "metadata": {},
   "outputs": [],
   "source": [
    "df2['strategy_return'] = df2['cc_return'] * df2['position']"
   ]
  },
  {
   "cell_type": "code",
   "execution_count": 35,
   "id": "b0ddbe92-2575-4b58-b70b-cfc7812b7e92",
   "metadata": {},
   "outputs": [],
   "source": [
    "df2['strategy_return'] = 1 + df2['strategy_return']"
   ]
  },
  {
   "cell_type": "code",
   "execution_count": 36,
   "id": "d298e45e-8251-4f63-82e3-26299d17248f",
   "metadata": {},
   "outputs": [],
   "source": [
    "df2['cc_return'] = 1 + df2['cc_return']"
   ]
  },
  {
   "cell_type": "code",
   "execution_count": 37,
   "id": "1b9b91df-5ac7-4390-90d6-e17a5db823ac",
   "metadata": {},
   "outputs": [
    {
     "data": {
      "text/plain": [
       "<Axes: xlabel='Date'>"
      ]
     },
     "execution_count": 37,
     "metadata": {},
     "output_type": "execute_result"
    },
    {
     "data": {
      "image/png": "[encoded data removed]",
      "text/plain": [
       "<Figure size 640x480 with 1 Axes>"
      ]
     },
     "metadata": {},
     "output_type": "display_data"
    }
   ],
   "source": [
    "df2[['strategy_return', 'cc_return']].cumprod().plot()"
   ]
  },
  {
   "cell_type": "code",
   "execution_count": 38,
   "id": "497ecb01-71e1-4098-b7ea-8dab569fcafe",
   "metadata": {},
   "outputs": [
    {
     "name": "stdout",
     "output_type": "stream",
     "text": [
      "Buy and hold returns: 3.24\n",
      "Strategy returns: 0.26\n"
     ]
    }
   ],
   "source": [
    "print('Buy and hold returns:', np.round(df2['cc_return'].cumprod()[-1]-1,2))\n",
    "print('Strategy returns:', np.round(df2['strategy_return'].cumprod()[-1]-1,2))"
   ]
  },
  {
   "cell_type": "markdown",
   "id": "b47e847a-42ba-4498-9ca6-888da5d67988",
   "metadata": {},
   "source": [
    "#### Buy and hold will give more returns than Strategy returns here."
   ]
  }
 ],
 "metadata": {
  "kernelspec": {
   "display_name": "Python 3 (ipykernel)",
   "language": "python",
   "name": "python3"
  },
  "language_info": {
   "codemirror_mode": {
    "name": "ipython",
    "version": 3
   },
   "file_extension": ".py",
   "mimetype": "text/x-python",
   "name": "python",
   "nbconvert_exporter": "python",
   "pygments_lexer": "ipython3",
   "version": "3.12.3"
  }
 },
 "nbformat": 4,
 "nbformat_minor": 5
}
